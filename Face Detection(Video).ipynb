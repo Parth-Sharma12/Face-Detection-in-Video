{
 "cells": [
  {
   "cell_type": "markdown",
   "id": "d6b51534",
   "metadata": {},
   "source": [
    "# Detecting Faces in Imported video"
   ]
  },
  {
   "cell_type": "code",
   "execution_count": null,
   "id": "ad3638c5",
   "metadata": {},
   "outputs": [],
   "source": [
    "import cv2 as cv\n",
    "import time\n",
    "cap = cv.VideoCapture(\"peoplewalking.mp4\")\n",
    "FaceCascade=cv.CascadeClassifier(\"haarcascade_frontalface_default.xml\")\n",
    "while cap.isOpened:\n",
    "    time.sleep(0.01)\n",
    "    _ , Frames = cap.read()\n",
    "    Frames=cv.resize(Frames,(500,400))\n",
    "    Frames_grey = cv.cvtColor(Frames,cv.COLOR_BGR2GRAY)\n",
    "    Faces=FaceCascade.detectMultiScale(Frames_grey,1.405,3,flags=cv.CASCADE_SCALE_IMAGE)\n",
    "    for x ,y , w , h in Faces:\n",
    "        cv.rectangle(Frames,(x,y),(x+w,y+h),(0,255,0),2)\n",
    "        cv.imshow(\"Video\",Frames)\n",
    "    if cv.waitKey(1) & 0xFF == ord('q'):\n",
    "        cv.destroyAllWindows()\n",
    "        break\n",
    "cap.release()"
   ]
  },
  {
   "cell_type": "markdown",
   "id": "14c87782",
   "metadata": {},
   "source": [
    "# Detecting Faces in Your own Cam(Live)"
   ]
  },
  {
   "cell_type": "code",
   "execution_count": 18,
   "id": "02bf6827",
   "metadata": {},
   "outputs": [],
   "source": [
    "import cv2 as cv\n",
    "import time\n",
    "cap = cv.VideoCapture(0)\n",
    "FaceCascade=cv.CascadeClassifier(\"haarcascade_frontalface_default.xml\")\n",
    "while(True):\n",
    "    _ , Frames = cap.read()\n",
    "    Frames=cv.resize(Frames,(500,400))\n",
    "    Frames_grey = cv.cvtColor(Frames,cv.COLOR_BGR2GRAY)\n",
    "    Faces=FaceCascade.detectMultiScale(Frames_grey,1.1,4,flags=cv.CASCADE_SCALE_IMAGE)\n",
    "    for x ,y , w , h in Faces:\n",
    "        cv.rectangle(Frames,(x,y),(x+w,y+h),(0,255,0),2)\n",
    "        cv.imshow(\"Video\",Frames)\n",
    "    if cv.waitKey(1) & 0xFF == ord('q'):\n",
    "        cv.destroyAllWindows()\n",
    "        break\n",
    "cap.release()"
   ]
  },
  {
   "cell_type": "code",
   "execution_count": null,
   "id": "fc557bd8",
   "metadata": {},
   "outputs": [],
   "source": []
  }
 ],
 "metadata": {},
 "nbformat": 4,
 "nbformat_minor": 5
}
